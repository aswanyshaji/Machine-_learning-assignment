{
  "cells": [
    {
      "cell_type": "markdown",
      "source": [
        "# **Implementation of Seq2Seq network for English to French Translation**\n",
        "\n",
        "In this tutorial, we implement a Seq2Seq model to translate English sentences into French. The Seq2Seq architecture is widely used for tasks like language translation, text summarization, and conversational AI. We will walk through each step, from data preparation to building and evaluating the model, focusing on understanding the process and principles behind this powerful architecture"
      ],
      "metadata": {
        "id": "BR2x1sBCjdKd"
      }
    },
    {
      "cell_type": "markdown",
      "source": [],
      "metadata": {
        "id": "egt7Yd7NjziD"
      }
    },
    {
      "cell_type": "markdown",
      "source": [
        "# Step1: Download Data"
      ],
      "metadata": {
        "id": "qmgSkjUJlUOH"
      }
    },
    {
      "cell_type": "markdown",
      "source": [],
      "metadata": {
        "id": "Tfqv6tkjlaXw"
      }
    },
    {
      "cell_type": "code",
      "execution_count": null,
      "metadata": {
        "colab": {
          "base_uri": "https://localhost:8080/"
        },
        "id": "7-O0j4fYq_TL",
        "outputId": "0417d7a8-82be-4f15-ffe1-f5d0e04b9de4"
      },
      "outputs": [
        {
          "output_type": "stream",
          "name": "stdout",
          "text": [
            "Downloading from https://www.kaggle.com/api/v1/datasets/download/devicharith/language-translation-englishfrench?dataset_version_number=2...\n"
          ]
        },
        {
          "output_type": "stream",
          "name": "stderr",
          "text": [
            "100%|██████████| 3.51M/3.51M [00:00<00:00, 5.38MB/s]"
          ]
        },
        {
          "output_type": "stream",
          "name": "stdout",
          "text": [
            "Extracting files...\n"
          ]
        },
        {
          "output_type": "stream",
          "name": "stderr",
          "text": [
            "\n"
          ]
        },
        {
          "output_type": "stream",
          "name": "stdout",
          "text": [
            "\n",
            "Files in the dataset directory:\n",
            "eng_-french.csv\n",
            "\n",
            "Inspecting eng_-french.csv...\n",
            "Columns: Index(['English words/sentences', 'French words/sentences'], dtype='object')\n",
            "  English words/sentences French words/sentences\n",
            "0                     Hi.                 Salut!\n",
            "1                    Run!                Cours !\n",
            "2                    Run!               Courez !\n",
            "3                    Who?                  Qui ?\n",
            "4                    Wow!             Ça alors !\n"
          ]
        }
      ],
      "source": [
        "import kagglehub\n",
        "import os\n",
        "import pandas as pd\n",
        "\n",
        "# Step 1: Download the dataset\n",
        "path = kagglehub.dataset_download(\"devicharith/language-translation-englishfrench\")\n",
        "\n",
        "# Step 2: List the files in the dataset directory\n",
        "print(\"\\nFiles in the dataset directory:\")\n",
        "for root, dirs, files in os.walk(path):\n",
        "    for file in files:\n",
        "        print(file)\n",
        "\n",
        "# Step 3: If the dataset contains a CSV file, load it and check the column names\n",
        "# Assume the file is named 'english_french.csv' or similar (you can adjust based on the actual file name)\n",
        "csv_files = [file for file in os.listdir(path) if file.endswith('.csv')]\n",
        "\n",
        "for csv_file in csv_files:\n",
        "    file_path = os.path.join(path, csv_file)\n",
        "    df = pd.read_csv(file_path)\n",
        "\n",
        "    # Step 4: Print the first few rows and column names\n",
        "    print(f\"\\nInspecting {csv_file}...\")\n",
        "    print(\"Columns:\", df.columns)\n",
        "    print(df.head())\n"
      ]
    },
    {
      "cell_type": "markdown",
      "source": [],
      "metadata": {
        "id": "Wvrcsy5AfjpH"
      }
    },
    {
      "cell_type": "markdown",
      "source": [
        "# Step2: Data Preprocessing"
      ],
      "metadata": {
        "id": "ghXFpTwRli5p"
      }
    },
    {
      "cell_type": "code",
      "execution_count": null,
      "metadata": {
        "colab": {
          "base_uri": "https://localhost:8080/"
        },
        "id": "BpOkepY6-w_-",
        "outputId": "4647dc74-ed8b-4481-ef4b-fca17a78905b"
      },
      "outputs": [
        {
          "output_type": "stream",
          "name": "stdout",
          "text": [
            "Training data size: 8000\n",
            "Test data size: 2000\n"
          ]
        }
      ],
      "source": [
        "# Import necessary libraries\n",
        "import pandas as pd\n",
        "import numpy as np\n",
        "from sklearn.model_selection import train_test_split\n",
        "# Data Preprocessing: Clean text (e.g., lowercasing, punctuation removal)\n",
        "def clean_text(text):\n",
        "    text = text.lower()  # Convert to lowercase\n",
        "    text = text.strip()  # Remove leading/trailing whitespaces\n",
        "    return text\n",
        "df = df.sample(n=10000, random_state=42)\n",
        "# Apply cleaning function to both English and French sentences\n",
        "df['English words/sentences'] = df['English words/sentences'].apply(clean_text)\n",
        "df['French words/sentences'] = df['French words/sentences'].apply(clean_text)\n",
        "\n",
        "# Split the data into training and testing sets\n",
        "X = df['English words/sentences'].values\n",
        "y = df['French words/sentences'].values\n",
        "\n",
        "X_train, X_test, y_train, y_test = train_test_split(X, y, test_size=0.2, random_state=42)\n",
        "\n",
        "# Check the shape of the training data\n",
        "print(f\"Training data size: {len(X_train)}\")\n",
        "print(f\"Test data size: {len(X_test)}\")"
      ]
    },
    {
      "cell_type": "markdown",
      "source": [
        "# Step 3: Tokenaization and Padding"
      ],
      "metadata": {
        "id": "ZwJPjyt1lpSB"
      }
    },
    {
      "cell_type": "code",
      "source": [],
      "metadata": {
        "id": "E694lTnTlu8O"
      },
      "execution_count": null,
      "outputs": []
    },
    {
      "cell_type": "code",
      "execution_count": null,
      "metadata": {
        "colab": {
          "base_uri": "https://localhost:8080/"
        },
        "id": "Nwf_0zwx_Pl8",
        "outputId": "8f595da0-6fc7-4d11-e1cb-a37a020e1c23"
      },
      "outputs": [
        {
          "output_type": "stream",
          "name": "stdout",
          "text": [
            "Shape of X_train_pad: (8000, 32)\n",
            "Shape of y_train_pad: (8000, 40)\n"
          ]
        }
      ],
      "source": [
        "from tensorflow.keras.preprocessing.text import Tokenizer\n",
        "from tensorflow.keras.preprocessing.sequence import pad_sequences\n",
        "\n",
        "# Initialize tokenizers for English and French\n",
        "english_tokenizer = Tokenizer()\n",
        "french_tokenizer = Tokenizer()\n",
        "\n",
        "# Fit the tokenizers on the training data\n",
        "english_tokenizer.fit_on_texts(X_train)\n",
        "french_tokenizer.fit_on_texts(y_train)\n",
        "\n",
        "# Convert sentences to sequences\n",
        "X_train_seq = english_tokenizer.texts_to_sequences(X_train)\n",
        "y_train_seq = french_tokenizer.texts_to_sequences(y_train)\n",
        "\n",
        "X_test_seq = english_tokenizer.texts_to_sequences(X_test)\n",
        "y_test_seq = french_tokenizer.texts_to_sequences(y_test)\n",
        "\n",
        "# Pad the sequences to ensure uniform length\n",
        "max_input_len = max([len(seq) for seq in X_train_seq])\n",
        "max_output_len = max([len(seq) for seq in y_train_seq])\n",
        "\n",
        "X_train_pad = pad_sequences(X_train_seq, maxlen=max_input_len, padding='post')\n",
        "y_train_pad = pad_sequences(y_train_seq, maxlen=max_output_len, padding='post')\n",
        "\n",
        "X_test_pad = pad_sequences(X_test_seq, maxlen=max_input_len, padding='post')\n",
        "y_test_pad = pad_sequences(y_test_seq, maxlen=max_output_len, padding='post')\n",
        "\n",
        "# Check the shape of padded sequences\n",
        "print(f\"Shape of X_train_pad: {X_train_pad.shape}\")\n",
        "print(f\"Shape of y_train_pad: {y_train_pad.shape}\")\n"
      ]
    },
    {
      "cell_type": "markdown",
      "source": [
        "# Steo 4: Seq2Seq Model Building"
      ],
      "metadata": {
        "id": "OQhEJfRfly4f"
      }
    },
    {
      "cell_type": "code",
      "execution_count": null,
      "metadata": {
        "colab": {
          "base_uri": "https://localhost:8080/",
          "height": 433
        },
        "id": "ckMbfWy8_UsR",
        "outputId": "1f4e79da-f9f8-4a00-cd47-3ad7f235e464"
      },
      "outputs": [
        {
          "output_type": "display_data",
          "data": {
            "text/plain": [
              "\u001b[1mModel: \"functional\"\u001b[0m\n"
            ],
            "text/html": [
              "<pre style=\"white-space:pre;overflow-x:auto;line-height:normal;font-family:Menlo,'DejaVu Sans Mono',consolas,'Courier New',monospace\"><span style=\"font-weight: bold\">Model: \"functional\"</span>\n",
              "</pre>\n"
            ]
          },
          "metadata": {}
        },
        {
          "output_type": "display_data",
          "data": {
            "text/plain": [
              "┏━━━━━━━━━━━━━━━━━━━━━━━━━━━┳━━━━━━━━━━━━━━━━━━━━━━━━┳━━━━━━━━━━━━━━━━┳━━━━━━━━━━━━━━━━━━━━━━━━┓\n",
              "┃\u001b[1m \u001b[0m\u001b[1mLayer (type)             \u001b[0m\u001b[1m \u001b[0m┃\u001b[1m \u001b[0m\u001b[1mOutput Shape          \u001b[0m\u001b[1m \u001b[0m┃\u001b[1m \u001b[0m\u001b[1m       Param #\u001b[0m\u001b[1m \u001b[0m┃\u001b[1m \u001b[0m\u001b[1mConnected to          \u001b[0m\u001b[1m \u001b[0m┃\n",
              "┡━━━━━━━━━━━━━━━━━━━━━━━━━━━╇━━━━━━━━━━━━━━━━━━━━━━━━╇━━━━━━━━━━━━━━━━╇━━━━━━━━━━━━━━━━━━━━━━━━┩\n",
              "│ input_layer (\u001b[38;5;33mInputLayer\u001b[0m)  │ (\u001b[38;5;45mNone\u001b[0m, \u001b[38;5;34m32\u001b[0m)             │              \u001b[38;5;34m0\u001b[0m │ -                      │\n",
              "├───────────────────────────┼────────────────────────┼────────────────┼────────────────────────┤\n",
              "│ input_layer_1             │ (\u001b[38;5;45mNone\u001b[0m, \u001b[38;5;34m40\u001b[0m)             │              \u001b[38;5;34m0\u001b[0m │ -                      │\n",
              "│ (\u001b[38;5;33mInputLayer\u001b[0m)              │                        │                │                        │\n",
              "├───────────────────────────┼────────────────────────┼────────────────┼────────────────────────┤\n",
              "│ embedding (\u001b[38;5;33mEmbedding\u001b[0m)     │ (\u001b[38;5;45mNone\u001b[0m, \u001b[38;5;34m32\u001b[0m, \u001b[38;5;34m256\u001b[0m)        │      \u001b[38;5;34m1,094,656\u001b[0m │ input_layer[\u001b[38;5;34m0\u001b[0m][\u001b[38;5;34m0\u001b[0m]      │\n",
              "├───────────────────────────┼────────────────────────┼────────────────┼────────────────────────┤\n",
              "│ embedding_1 (\u001b[38;5;33mEmbedding\u001b[0m)   │ (\u001b[38;5;45mNone\u001b[0m, \u001b[38;5;34m40\u001b[0m, \u001b[38;5;34m256\u001b[0m)        │      \u001b[38;5;34m1,735,936\u001b[0m │ input_layer_1[\u001b[38;5;34m0\u001b[0m][\u001b[38;5;34m0\u001b[0m]    │\n",
              "├───────────────────────────┼────────────────────────┼────────────────┼────────────────────────┤\n",
              "│ lstm (\u001b[38;5;33mLSTM\u001b[0m)               │ [(\u001b[38;5;45mNone\u001b[0m, \u001b[38;5;34m512\u001b[0m), (\u001b[38;5;45mNone\u001b[0m,   │      \u001b[38;5;34m1,574,912\u001b[0m │ embedding[\u001b[38;5;34m0\u001b[0m][\u001b[38;5;34m0\u001b[0m]        │\n",
              "│                           │ \u001b[38;5;34m512\u001b[0m), (\u001b[38;5;45mNone\u001b[0m, \u001b[38;5;34m512\u001b[0m)]     │                │                        │\n",
              "├───────────────────────────┼────────────────────────┼────────────────┼────────────────────────┤\n",
              "│ lstm_1 (\u001b[38;5;33mLSTM\u001b[0m)             │ [(\u001b[38;5;45mNone\u001b[0m, \u001b[38;5;34m40\u001b[0m, \u001b[38;5;34m512\u001b[0m),      │      \u001b[38;5;34m1,574,912\u001b[0m │ embedding_1[\u001b[38;5;34m0\u001b[0m][\u001b[38;5;34m0\u001b[0m],     │\n",
              "│                           │ (\u001b[38;5;45mNone\u001b[0m, \u001b[38;5;34m512\u001b[0m), (\u001b[38;5;45mNone\u001b[0m,    │                │ lstm[\u001b[38;5;34m0\u001b[0m][\u001b[38;5;34m1\u001b[0m], lstm[\u001b[38;5;34m0\u001b[0m][\u001b[38;5;34m2\u001b[0m] │\n",
              "│                           │ \u001b[38;5;34m512\u001b[0m)]                  │                │                        │\n",
              "├───────────────────────────┼────────────────────────┼────────────────┼────────────────────────┤\n",
              "│ time_distributed          │ (\u001b[38;5;45mNone\u001b[0m, \u001b[38;5;34m40\u001b[0m, \u001b[38;5;34m6781\u001b[0m)       │      \u001b[38;5;34m3,478,653\u001b[0m │ lstm_1[\u001b[38;5;34m0\u001b[0m][\u001b[38;5;34m0\u001b[0m]           │\n",
              "│ (\u001b[38;5;33mTimeDistributed\u001b[0m)         │                        │                │                        │\n",
              "└───────────────────────────┴────────────────────────┴────────────────┴────────────────────────┘\n"
            ],
            "text/html": [
              "<pre style=\"white-space:pre;overflow-x:auto;line-height:normal;font-family:Menlo,'DejaVu Sans Mono',consolas,'Courier New',monospace\">┏━━━━━━━━━━━━━━━━━━━━━━━━━━━┳━━━━━━━━━━━━━━━━━━━━━━━━┳━━━━━━━━━━━━━━━━┳━━━━━━━━━━━━━━━━━━━━━━━━┓\n",
              "┃<span style=\"font-weight: bold\"> Layer (type)              </span>┃<span style=\"font-weight: bold\"> Output Shape           </span>┃<span style=\"font-weight: bold\">        Param # </span>┃<span style=\"font-weight: bold\"> Connected to           </span>┃\n",
              "┡━━━━━━━━━━━━━━━━━━━━━━━━━━━╇━━━━━━━━━━━━━━━━━━━━━━━━╇━━━━━━━━━━━━━━━━╇━━━━━━━━━━━━━━━━━━━━━━━━┩\n",
              "│ input_layer (<span style=\"color: #0087ff; text-decoration-color: #0087ff\">InputLayer</span>)  │ (<span style=\"color: #00d7ff; text-decoration-color: #00d7ff\">None</span>, <span style=\"color: #00af00; text-decoration-color: #00af00\">32</span>)             │              <span style=\"color: #00af00; text-decoration-color: #00af00\">0</span> │ -                      │\n",
              "├───────────────────────────┼────────────────────────┼────────────────┼────────────────────────┤\n",
              "│ input_layer_1             │ (<span style=\"color: #00d7ff; text-decoration-color: #00d7ff\">None</span>, <span style=\"color: #00af00; text-decoration-color: #00af00\">40</span>)             │              <span style=\"color: #00af00; text-decoration-color: #00af00\">0</span> │ -                      │\n",
              "│ (<span style=\"color: #0087ff; text-decoration-color: #0087ff\">InputLayer</span>)              │                        │                │                        │\n",
              "├───────────────────────────┼────────────────────────┼────────────────┼────────────────────────┤\n",
              "│ embedding (<span style=\"color: #0087ff; text-decoration-color: #0087ff\">Embedding</span>)     │ (<span style=\"color: #00d7ff; text-decoration-color: #00d7ff\">None</span>, <span style=\"color: #00af00; text-decoration-color: #00af00\">32</span>, <span style=\"color: #00af00; text-decoration-color: #00af00\">256</span>)        │      <span style=\"color: #00af00; text-decoration-color: #00af00\">1,094,656</span> │ input_layer[<span style=\"color: #00af00; text-decoration-color: #00af00\">0</span>][<span style=\"color: #00af00; text-decoration-color: #00af00\">0</span>]      │\n",
              "├───────────────────────────┼────────────────────────┼────────────────┼────────────────────────┤\n",
              "│ embedding_1 (<span style=\"color: #0087ff; text-decoration-color: #0087ff\">Embedding</span>)   │ (<span style=\"color: #00d7ff; text-decoration-color: #00d7ff\">None</span>, <span style=\"color: #00af00; text-decoration-color: #00af00\">40</span>, <span style=\"color: #00af00; text-decoration-color: #00af00\">256</span>)        │      <span style=\"color: #00af00; text-decoration-color: #00af00\">1,735,936</span> │ input_layer_1[<span style=\"color: #00af00; text-decoration-color: #00af00\">0</span>][<span style=\"color: #00af00; text-decoration-color: #00af00\">0</span>]    │\n",
              "├───────────────────────────┼────────────────────────┼────────────────┼────────────────────────┤\n",
              "│ lstm (<span style=\"color: #0087ff; text-decoration-color: #0087ff\">LSTM</span>)               │ [(<span style=\"color: #00d7ff; text-decoration-color: #00d7ff\">None</span>, <span style=\"color: #00af00; text-decoration-color: #00af00\">512</span>), (<span style=\"color: #00d7ff; text-decoration-color: #00d7ff\">None</span>,   │      <span style=\"color: #00af00; text-decoration-color: #00af00\">1,574,912</span> │ embedding[<span style=\"color: #00af00; text-decoration-color: #00af00\">0</span>][<span style=\"color: #00af00; text-decoration-color: #00af00\">0</span>]        │\n",
              "│                           │ <span style=\"color: #00af00; text-decoration-color: #00af00\">512</span>), (<span style=\"color: #00d7ff; text-decoration-color: #00d7ff\">None</span>, <span style=\"color: #00af00; text-decoration-color: #00af00\">512</span>)]     │                │                        │\n",
              "├───────────────────────────┼────────────────────────┼────────────────┼────────────────────────┤\n",
              "│ lstm_1 (<span style=\"color: #0087ff; text-decoration-color: #0087ff\">LSTM</span>)             │ [(<span style=\"color: #00d7ff; text-decoration-color: #00d7ff\">None</span>, <span style=\"color: #00af00; text-decoration-color: #00af00\">40</span>, <span style=\"color: #00af00; text-decoration-color: #00af00\">512</span>),      │      <span style=\"color: #00af00; text-decoration-color: #00af00\">1,574,912</span> │ embedding_1[<span style=\"color: #00af00; text-decoration-color: #00af00\">0</span>][<span style=\"color: #00af00; text-decoration-color: #00af00\">0</span>],     │\n",
              "│                           │ (<span style=\"color: #00d7ff; text-decoration-color: #00d7ff\">None</span>, <span style=\"color: #00af00; text-decoration-color: #00af00\">512</span>), (<span style=\"color: #00d7ff; text-decoration-color: #00d7ff\">None</span>,    │                │ lstm[<span style=\"color: #00af00; text-decoration-color: #00af00\">0</span>][<span style=\"color: #00af00; text-decoration-color: #00af00\">1</span>], lstm[<span style=\"color: #00af00; text-decoration-color: #00af00\">0</span>][<span style=\"color: #00af00; text-decoration-color: #00af00\">2</span>] │\n",
              "│                           │ <span style=\"color: #00af00; text-decoration-color: #00af00\">512</span>)]                  │                │                        │\n",
              "├───────────────────────────┼────────────────────────┼────────────────┼────────────────────────┤\n",
              "│ time_distributed          │ (<span style=\"color: #00d7ff; text-decoration-color: #00d7ff\">None</span>, <span style=\"color: #00af00; text-decoration-color: #00af00\">40</span>, <span style=\"color: #00af00; text-decoration-color: #00af00\">6781</span>)       │      <span style=\"color: #00af00; text-decoration-color: #00af00\">3,478,653</span> │ lstm_1[<span style=\"color: #00af00; text-decoration-color: #00af00\">0</span>][<span style=\"color: #00af00; text-decoration-color: #00af00\">0</span>]           │\n",
              "│ (<span style=\"color: #0087ff; text-decoration-color: #0087ff\">TimeDistributed</span>)         │                        │                │                        │\n",
              "└───────────────────────────┴────────────────────────┴────────────────┴────────────────────────┘\n",
              "</pre>\n"
            ]
          },
          "metadata": {}
        },
        {
          "output_type": "display_data",
          "data": {
            "text/plain": [
              "\u001b[1m Total params: \u001b[0m\u001b[38;5;34m9,459,069\u001b[0m (36.08 MB)\n"
            ],
            "text/html": [
              "<pre style=\"white-space:pre;overflow-x:auto;line-height:normal;font-family:Menlo,'DejaVu Sans Mono',consolas,'Courier New',monospace\"><span style=\"font-weight: bold\"> Total params: </span><span style=\"color: #00af00; text-decoration-color: #00af00\">9,459,069</span> (36.08 MB)\n",
              "</pre>\n"
            ]
          },
          "metadata": {}
        },
        {
          "output_type": "display_data",
          "data": {
            "text/plain": [
              "\u001b[1m Trainable params: \u001b[0m\u001b[38;5;34m9,459,069\u001b[0m (36.08 MB)\n"
            ],
            "text/html": [
              "<pre style=\"white-space:pre;overflow-x:auto;line-height:normal;font-family:Menlo,'DejaVu Sans Mono',consolas,'Courier New',monospace\"><span style=\"font-weight: bold\"> Trainable params: </span><span style=\"color: #00af00; text-decoration-color: #00af00\">9,459,069</span> (36.08 MB)\n",
              "</pre>\n"
            ]
          },
          "metadata": {}
        },
        {
          "output_type": "display_data",
          "data": {
            "text/plain": [
              "\u001b[1m Non-trainable params: \u001b[0m\u001b[38;5;34m0\u001b[0m (0.00 B)\n"
            ],
            "text/html": [
              "<pre style=\"white-space:pre;overflow-x:auto;line-height:normal;font-family:Menlo,'DejaVu Sans Mono',consolas,'Courier New',monospace\"><span style=\"font-weight: bold\"> Non-trainable params: </span><span style=\"color: #00af00; text-decoration-color: #00af00\">0</span> (0.00 B)\n",
              "</pre>\n"
            ]
          },
          "metadata": {}
        }
      ],
      "source": [
        "from tensorflow.keras.models import Model\n",
        "from tensorflow.keras.layers import Input, Embedding, LSTM, Dense, TimeDistributed\n",
        "from tensorflow.keras.optimizers import Adam\n",
        "\n",
        "# Parameters\n",
        "embedding_dim = 256\n",
        "latent_dim = 512\n",
        "\n",
        "# Define the encoder\n",
        "encoder_input = Input(shape=(max_input_len,))\n",
        "encoder_embedding = Embedding(input_dim=len(english_tokenizer.word_index) + 1, output_dim=embedding_dim)(encoder_input)\n",
        "encoder_lstm = LSTM(latent_dim, return_state=True)\n",
        "encoder_output, state_h, state_c = encoder_lstm(encoder_embedding)\n",
        "\n",
        "# Define the decoder\n",
        "decoder_input = Input(shape=(max_output_len,))\n",
        "decoder_embedding = Embedding(input_dim=len(french_tokenizer.word_index) + 1, output_dim=embedding_dim)(decoder_input)\n",
        "decoder_lstm = LSTM(latent_dim, return_sequences=True, return_state=True)\n",
        "decoder_output, _, _ = decoder_lstm(decoder_embedding, initial_state=[state_h, state_c])\n",
        "decoder_dense = TimeDistributed(Dense(len(french_tokenizer.word_index) + 1, activation='softmax'))\n",
        "decoder_output = decoder_dense(decoder_output)\n",
        "\n",
        "# Build the model\n",
        "model = Model([encoder_input, decoder_input], decoder_output)\n",
        "# Compile the model\n",
        "model.compile(optimizer=Adam(), loss='sparse_categorical_crossentropy', metrics=['accuracy'])\n",
        "# Display the model architecture\n",
        "model.summary()\n"
      ]
    },
    {
      "cell_type": "markdown",
      "source": [
        "# Step 5: Model Training"
      ],
      "metadata": {
        "id": "9hPCQq-5l9QP"
      }
    },
    {
      "cell_type": "code",
      "execution_count": null,
      "metadata": {
        "colab": {
          "base_uri": "https://localhost:8080/"
        },
        "id": "ClyoeeJA_mzh",
        "outputId": "a50767ce-86e3-4d05-fdc6-c325bf60f3ba"
      },
      "outputs": [
        {
          "output_type": "stream",
          "name": "stdout",
          "text": [
            "Epoch 1/10\n",
            "\u001b[1m100/100\u001b[0m \u001b[32m━━━━━━━━━━━━━━━━━━━━\u001b[0m\u001b[37m\u001b[0m \u001b[1m82s\u001b[0m 786ms/step - accuracy: 0.7908 - loss: 2.7032 - val_accuracy: 0.8417 - val_loss: 1.1362\n",
            "Epoch 2/10\n",
            "\u001b[1m100/100\u001b[0m \u001b[32m━━━━━━━━━━━━━━━━━━━━\u001b[0m\u001b[37m\u001b[0m \u001b[1m76s\u001b[0m 764ms/step - accuracy: 0.8412 - loss: 1.1085 - val_accuracy: 0.8438 - val_loss: 1.1035\n",
            "Epoch 3/10\n",
            "\u001b[1m100/100\u001b[0m \u001b[32m━━━━━━━━━━━━━━━━━━━━\u001b[0m\u001b[37m\u001b[0m \u001b[1m77s\u001b[0m 770ms/step - accuracy: 0.8410 - loss: 1.0674 - val_accuracy: 0.8453 - val_loss: 1.0738\n",
            "Epoch 4/10\n",
            "\u001b[1m100/100\u001b[0m \u001b[32m━━━━━━━━━━━━━━━━━━━━\u001b[0m\u001b[37m\u001b[0m \u001b[1m76s\u001b[0m 761ms/step - accuracy: 0.8449 - loss: 1.0138 - val_accuracy: 0.8472 - val_loss: 1.0461\n",
            "Epoch 5/10\n",
            "\u001b[1m100/100\u001b[0m \u001b[32m━━━━━━━━━━━━━━━━━━━━\u001b[0m\u001b[37m\u001b[0m \u001b[1m76s\u001b[0m 761ms/step - accuracy: 0.8477 - loss: 0.9693 - val_accuracy: 0.8509 - val_loss: 1.0200\n",
            "Epoch 6/10\n",
            "\u001b[1m100/100\u001b[0m \u001b[32m━━━━━━━━━━━━━━━━━━━━\u001b[0m\u001b[37m\u001b[0m \u001b[1m75s\u001b[0m 751ms/step - accuracy: 0.8521 - loss: 0.9241 - val_accuracy: 0.8535 - val_loss: 0.9999\n",
            "Epoch 7/10\n",
            "\u001b[1m100/100\u001b[0m \u001b[32m━━━━━━━━━━━━━━━━━━━━\u001b[0m\u001b[37m\u001b[0m \u001b[1m75s\u001b[0m 754ms/step - accuracy: 0.8545 - loss: 0.8848 - val_accuracy: 0.8551 - val_loss: 0.9817\n",
            "Epoch 8/10\n",
            "\u001b[1m100/100\u001b[0m \u001b[32m━━━━━━━━━━━━━━━━━━━━\u001b[0m\u001b[37m\u001b[0m \u001b[1m75s\u001b[0m 751ms/step - accuracy: 0.8562 - loss: 0.8482 - val_accuracy: 0.8568 - val_loss: 0.9666\n",
            "Epoch 9/10\n",
            "\u001b[1m100/100\u001b[0m \u001b[32m━━━━━━━━━━━━━━━━━━━━\u001b[0m\u001b[37m\u001b[0m \u001b[1m75s\u001b[0m 754ms/step - accuracy: 0.8598 - loss: 0.8109 - val_accuracy: 0.8589 - val_loss: 0.9522\n",
            "Epoch 10/10\n",
            "\u001b[1m100/100\u001b[0m \u001b[32m━━━━━━━━━━━━━━━━━━━━\u001b[0m\u001b[37m\u001b[0m \u001b[1m75s\u001b[0m 755ms/step - accuracy: 0.8632 - loss: 0.7724 - val_accuracy: 0.8599 - val_loss: 0.9414\n"
          ]
        }
      ],
      "source": [
        "# Prepare decoder input for training\n",
        "y_train_decoder_input = np.zeros_like(y_train_pad)\n",
        "y_train_decoder_input[:, 1:] = y_train_pad[:, :-1]\n",
        "\n",
        "y_train_decoder_input = y_train_decoder_input.reshape((y_train_decoder_input.shape[0], y_train_decoder_input.shape[1], 1))\n",
        "\n",
        "# Train the model\n",
        "history = model.fit(\n",
        "    [X_train_pad, y_train_decoder_input],\n",
        "    np.expand_dims(y_train_pad, -1),  # Add an extra dimension for the target sequence\n",
        "    epochs=10,\n",
        "    batch_size=64,\n",
        "    validation_split=0.2\n",
        ")\n"
      ]
    },
    {
      "cell_type": "code",
      "source": [
        "import matplotlib.pyplot as plt\n",
        "\n",
        "# Define color-blind friendly colors (using a simple palette)\n",
        "color_palette = ['#E69F00', '#56B4E9', '#009E73', '#F0E442', '#0072B2', '#D55E00']\n",
        "\n",
        "# Extract metrics from the history object\n",
        "train_loss = history.history['loss']\n",
        "val_loss = history.history['val_loss']\n",
        "train_accuracy = history.history['accuracy']\n",
        "val_accuracy = history.history['val_accuracy']\n",
        "\n",
        "# Plot the training and validation loss\n",
        "plt.figure(figsize=(12, 6))\n",
        "\n",
        "# Loss subplot\n",
        "plt.subplot(1, 2, 1)\n",
        "plt.plot(train_loss, label='Training Loss', marker='o', color=color_palette[0])  # Training Loss\n",
        "plt.plot(val_loss, label='Validation Loss', marker='o', color=color_palette[1])  # Validation Loss\n",
        "plt.title('Training and Validation Loss', fontsize=16)\n",
        "plt.xlabel('Epochs', fontsize=14)\n",
        "plt.ylabel('Loss', fontsize=14)\n",
        "plt.legend(fontsize=12)\n",
        "plt.grid(True)\n",
        "\n",
        "# Accuracy subplot\n",
        "plt.subplot(1, 2, 2)\n",
        "plt.plot(train_accuracy, label='Training Accuracy', marker='o', color=color_palette[2])  # Training Accuracy\n",
        "plt.plot(val_accuracy, label='Validation Accuracy', marker='o', color=color_palette[3])  # Validation Accuracy\n",
        "plt.title('Training and Validation Accuracy', fontsize=16)\n",
        "plt.xlabel('Epochs', fontsize=14)\n",
        "plt.ylabel('Accuracy', fontsize=14)\n",
        "plt.legend(fontsize=12)\n",
        "plt.grid(True)\n",
        "\n",
        "# Show the plots\n",
        "plt.tight_layout()\n",
        "plt.show()\n",
        "\n"
      ],
      "metadata": {
        "colab": {
          "base_uri": "https://localhost:8080/",
          "height": 591
        },
        "id": "sAn7W68M8WDn",
        "outputId": "3b933b57-9dfe-4a9a-9e90-05fc759ca062"
      },
      "execution_count": null,
      "outputs": [
        {
          "output_type": "display_data",
          "data": {
            "text/plain": [
              "<Figure size 1200x600 with 2 Axes>"
            ],
            "image/png": "[encoded data removed]"
          },
          "metadata": {}
        }
      ]
    },
    {
      "cell_type": "markdown",
      "source": [
        "# Step 6: Inference"
      ],
      "metadata": {
        "id": "jG_yW8-WmHdv"
      }
    },
    {
      "cell_type": "code",
      "source": [
        "# Prepare decoder input for testing\n",
        "y_test_decoder_input = np.zeros_like(y_test_pad)\n",
        "y_test_decoder_input[:, 1:] = y_test_pad[:, :-1]\n",
        "\n",
        "# Reshape the decoder input to match the expected shape\n",
        "y_test_decoder_input = y_test_decoder_input.reshape((y_test_decoder_input.shape[0], y_test_decoder_input.shape[1], 1))\n"
      ],
      "metadata": {
        "id": "iW2qIrHg9OUn"
      },
      "execution_count": null,
      "outputs": []
    },
    {
      "cell_type": "code",
      "source": [
        "# Evaluate the model on the test data\n",
        "loss, accuracy = model.evaluate(\n",
        "    [X_test_pad, y_test_decoder_input],  # Encoder input and decoder input\n",
        "    np.expand_dims(y_test_pad, -1)       # Decoder target output (expanded to match expected shape)\n",
        ")\n",
        "\n",
        "print(f\"Test Loss: {loss}, Test Accuracy: {accuracy}\")\n"
      ],
      "metadata": {
        "colab": {
          "base_uri": "https://localhost:8080/"
        },
        "id": "r1bYYpbu-7Mb",
        "outputId": "1ad331ad-14b2-4de4-a62d-b458a36544a2"
      },
      "execution_count": null,
      "outputs": [
        {
          "output_type": "stream",
          "name": "stdout",
          "text": [
            "\u001b[1m63/63\u001b[0m \u001b[32m━━━━━━━━━━━━━━━━━━━━\u001b[0m\u001b[37m\u001b[0m \u001b[1m2s\u001b[0m 21ms/step - accuracy: 0.8619 - loss: 0.8532\n",
            "Test Loss: 0.846774160861969, Test Accuracy: 0.8630124926567078\n"
          ]
        }
      ]
    },
    {
      "cell_type": "code",
      "source": [
        "# Function to convert a sequence of indices back to sentence using the tokenizer\n",
        "def convert_idx_to_sent(input_seq, tokenizer):\n",
        "    sent = ''\n",
        "    for idx in input_seq:\n",
        "        if idx != 0:  # Skip padding tokens\n",
        "            sent += tokenizer.index_word[idx] + ' '\n",
        "    return sent.strip()\n",
        "\n",
        "# Function to translate new English sentences\n",
        "def translate(input_sentence):\n",
        "    # Convert the input sentence into sequence\n",
        "    input_seq = english_tokenizer.texts_to_sequences([input_sentence])\n",
        "    input_seq = pad_sequences(input_seq, maxlen=max_input_len, padding='post')\n",
        "\n",
        "    # Start with an initial decoder input sequence (e.g., all zeros)\n",
        "    decoder_input_seq = np.zeros((1, max_output_len))\n",
        "\n",
        "    # Store the translated sentence\n",
        "    decoded_sentence = ''\n",
        "\n",
        "    # Predict the output sequence (French translation)\n",
        "    for t in range(max_output_len):\n",
        "        output_tokens = model.predict([input_seq, decoder_input_seq])\n",
        "\n",
        "        # Get the token with the highest probability for the current timestep\n",
        "        sampled_token_index = np.argmax(output_tokens[0, t, :])\n",
        "        sampled_word = french_tokenizer.index_word.get(sampled_token_index, '')\n",
        "\n",
        "        # Add the word to the decoded sentence\n",
        "        decoded_sentence += ' ' + sampled_word\n",
        "\n",
        "        # Update the decoder input for the next timestep (autoregressive)\n",
        "        decoder_input_seq[0, t] = sampled_token_index\n",
        "\n",
        "        # If we encounter the <end> token, we stop the prediction\n",
        "        if sampled_word == '<end>':\n",
        "            break\n",
        "\n",
        "    return decoded_sentence.strip()\n",
        "\n",
        "# Example usage of the translate function:\n",
        "input_sentence = \"Hi.\"\n",
        "translated_sentence = translate(input_sentence)\n",
        "print(f\"Translated: {translated_sentence}\")\n"
      ],
      "metadata": {
        "colab": {
          "base_uri": "https://localhost:8080/"
        },
        "id": "adbHxUfD_F-j",
        "outputId": "fdd3781d-a072-47a1-8e8f-f6d614a0dcd1"
      },
      "execution_count": null,
      "outputs": [
        {
          "output_type": "stream",
          "name": "stdout",
          "text": [
            "\u001b[1m1/1\u001b[0m \u001b[32m━━━━━━━━━━━━━━━━━━━━\u001b[0m\u001b[37m\u001b[0m \u001b[1m0s\u001b[0m 472ms/step\n",
            "\u001b[1m1/1\u001b[0m \u001b[32m━━━━━━━━━━━━━━━━━━━━\u001b[0m\u001b[37m\u001b[0m \u001b[1m0s\u001b[0m 28ms/step\n",
            "\u001b[1m1/1\u001b[0m \u001b[32m━━━━━━━━━━━━━━━━━━━━\u001b[0m\u001b[37m\u001b[0m \u001b[1m0s\u001b[0m 22ms/step\n",
            "\u001b[1m1/1\u001b[0m \u001b[32m━━━━━━━━━━━━━━━━━━━━\u001b[0m\u001b[37m\u001b[0m \u001b[1m0s\u001b[0m 26ms/step\n",
            "\u001b[1m1/1\u001b[0m \u001b[32m━━━━━━━━━━━━━━━━━━━━\u001b[0m\u001b[37m\u001b[0m \u001b[1m0s\u001b[0m 27ms/step\n",
            "\u001b[1m1/1\u001b[0m \u001b[32m━━━━━━━━━━━━━━━━━━━━\u001b[0m\u001b[37m\u001b[0m \u001b[1m0s\u001b[0m 19ms/step\n",
            "\u001b[1m1/1\u001b[0m \u001b[32m━━━━━━━━━━━━━━━━━━━━\u001b[0m\u001b[37m\u001b[0m \u001b[1m0s\u001b[0m 18ms/step\n",
            "\u001b[1m1/1\u001b[0m \u001b[32m━━━━━━━━━━━━━━━━━━━━\u001b[0m\u001b[37m\u001b[0m \u001b[1m0s\u001b[0m 19ms/step\n",
            "\u001b[1m1/1\u001b[0m \u001b[32m━━━━━━━━━━━━━━━━━━━━\u001b[0m\u001b[37m\u001b[0m \u001b[1m0s\u001b[0m 19ms/step\n",
            "\u001b[1m1/1\u001b[0m \u001b[32m━━━━━━━━━━━━━━━━━━━━\u001b[0m\u001b[37m\u001b[0m \u001b[1m0s\u001b[0m 19ms/step\n",
            "\u001b[1m1/1\u001b[0m \u001b[32m━━━━━━━━━━━━━━━━━━━━\u001b[0m\u001b[37m\u001b[0m \u001b[1m0s\u001b[0m 19ms/step\n",
            "\u001b[1m1/1\u001b[0m \u001b[32m━━━━━━━━━━━━━━━━━━━━\u001b[0m\u001b[37m\u001b[0m \u001b[1m0s\u001b[0m 19ms/step\n",
            "\u001b[1m1/1\u001b[0m \u001b[32m━━━━━━━━━━━━━━━━━━━━\u001b[0m\u001b[37m\u001b[0m \u001b[1m0s\u001b[0m 20ms/step\n",
            "\u001b[1m1/1\u001b[0m \u001b[32m━━━━━━━━━━━━━━━━━━━━\u001b[0m\u001b[37m\u001b[0m \u001b[1m0s\u001b[0m 19ms/step\n",
            "\u001b[1m1/1\u001b[0m \u001b[32m━━━━━━━━━━━━━━━━━━━━\u001b[0m\u001b[37m\u001b[0m \u001b[1m0s\u001b[0m 18ms/step\n",
            "\u001b[1m1/1\u001b[0m \u001b[32m━━━━━━━━━━━━━━━━━━━━\u001b[0m\u001b[37m\u001b[0m \u001b[1m0s\u001b[0m 18ms/step\n",
            "\u001b[1m1/1\u001b[0m \u001b[32m━━━━━━━━━━━━━━━━━━━━\u001b[0m\u001b[37m\u001b[0m \u001b[1m0s\u001b[0m 19ms/step\n",
            "\u001b[1m1/1\u001b[0m \u001b[32m━━━━━━━━━━━━━━━━━━━━\u001b[0m\u001b[37m\u001b[0m \u001b[1m0s\u001b[0m 18ms/step\n",
            "\u001b[1m1/1\u001b[0m \u001b[32m━━━━━━━━━━━━━━━━━━━━\u001b[0m\u001b[37m\u001b[0m \u001b[1m0s\u001b[0m 18ms/step\n",
            "\u001b[1m1/1\u001b[0m \u001b[32m━━━━━━━━━━━━━━━━━━━━\u001b[0m\u001b[37m\u001b[0m \u001b[1m0s\u001b[0m 19ms/step\n",
            "\u001b[1m1/1\u001b[0m \u001b[32m━━━━━━━━━━━━━━━━━━━━\u001b[0m\u001b[37m\u001b[0m \u001b[1m0s\u001b[0m 21ms/step\n",
            "\u001b[1m1/1\u001b[0m \u001b[32m━━━━━━━━━━━━━━━━━━━━\u001b[0m\u001b[37m\u001b[0m \u001b[1m0s\u001b[0m 26ms/step\n",
            "\u001b[1m1/1\u001b[0m \u001b[32m━━━━━━━━━━━━━━━━━━━━\u001b[0m\u001b[37m\u001b[0m \u001b[1m0s\u001b[0m 21ms/step\n",
            "\u001b[1m1/1\u001b[0m \u001b[32m━━━━━━━━━━━━━━━━━━━━\u001b[0m\u001b[37m\u001b[0m \u001b[1m0s\u001b[0m 20ms/step\n",
            "\u001b[1m1/1\u001b[0m \u001b[32m━━━━━━━━━━━━━━━━━━━━\u001b[0m\u001b[37m\u001b[0m \u001b[1m0s\u001b[0m 20ms/step\n",
            "\u001b[1m1/1\u001b[0m \u001b[32m━━━━━━━━━━━━━━━━━━━━\u001b[0m\u001b[37m\u001b[0m \u001b[1m0s\u001b[0m 19ms/step\n",
            "\u001b[1m1/1\u001b[0m \u001b[32m━━━━━━━━━━━━━━━━━━━━\u001b[0m\u001b[37m\u001b[0m \u001b[1m0s\u001b[0m 19ms/step\n",
            "\u001b[1m1/1\u001b[0m \u001b[32m━━━━━━━━━━━━━━━━━━━━\u001b[0m\u001b[37m\u001b[0m \u001b[1m0s\u001b[0m 19ms/step\n",
            "\u001b[1m1/1\u001b[0m \u001b[32m━━━━━━━━━━━━━━━━━━━━\u001b[0m\u001b[37m\u001b[0m \u001b[1m0s\u001b[0m 19ms/step\n",
            "\u001b[1m1/1\u001b[0m \u001b[32m━━━━━━━━━━━━━━━━━━━━\u001b[0m\u001b[37m\u001b[0m \u001b[1m0s\u001b[0m 20ms/step\n",
            "\u001b[1m1/1\u001b[0m \u001b[32m━━━━━━━━━━━━━━━━━━━━\u001b[0m\u001b[37m\u001b[0m \u001b[1m0s\u001b[0m 21ms/step\n",
            "\u001b[1m1/1\u001b[0m \u001b[32m━━━━━━━━━━━━━━━━━━━━\u001b[0m\u001b[37m\u001b[0m \u001b[1m0s\u001b[0m 21ms/step\n",
            "\u001b[1m1/1\u001b[0m \u001b[32m━━━━━━━━━━━━━━━━━━━━\u001b[0m\u001b[37m\u001b[0m \u001b[1m0s\u001b[0m 19ms/step\n",
            "\u001b[1m1/1\u001b[0m \u001b[32m━━━━━━━━━━━━━━━━━━━━\u001b[0m\u001b[37m\u001b[0m \u001b[1m0s\u001b[0m 23ms/step\n",
            "\u001b[1m1/1\u001b[0m \u001b[32m━━━━━━━━━━━━━━━━━━━━\u001b[0m\u001b[37m\u001b[0m \u001b[1m0s\u001b[0m 22ms/step\n",
            "\u001b[1m1/1\u001b[0m \u001b[32m━━━━━━━━━━━━━━━━━━━━\u001b[0m\u001b[37m\u001b[0m \u001b[1m0s\u001b[0m 22ms/step\n",
            "\u001b[1m1/1\u001b[0m \u001b[32m━━━━━━━━━━━━━━━━━━━━\u001b[0m\u001b[37m\u001b[0m \u001b[1m0s\u001b[0m 21ms/step\n",
            "\u001b[1m1/1\u001b[0m \u001b[32m━━━━━━━━━━━━━━━━━━━━\u001b[0m\u001b[37m\u001b[0m \u001b[1m0s\u001b[0m 20ms/step\n",
            "\u001b[1m1/1\u001b[0m \u001b[32m━━━━━━━━━━━━━━━━━━━━\u001b[0m\u001b[37m\u001b[0m \u001b[1m0s\u001b[0m 20ms/step\n",
            "\u001b[1m1/1\u001b[0m \u001b[32m━━━━━━━━━━━━━━━━━━━━\u001b[0m\u001b[37m\u001b[0m \u001b[1m0s\u001b[0m 20ms/step\n",
            "Translated: je\n"
          ]
        }
      ]
    },
    {
      "cell_type": "code",
      "source": [
        "# Evaluate the model's predictions on the test data\n",
        "test_predictions = model.predict([X_test_pad, y_test_decoder_input])\n",
        "\n",
        "# Convert predicted sequences to words\n",
        "pred_fra_text = [convert_idx_to_sent(np.argmax(pred, axis=1), french_tokenizer) for pred in test_predictions]\n",
        "\n",
        "# Convert actual French sequences to words (use tokenized data, not raw text)\n",
        "orig_fra_text = [convert_idx_to_sent(seq, french_tokenizer) for seq in y_test_pad]\n",
        "\n",
        "# Show the results\n",
        "predictions = pd.DataFrame({\n",
        "    'Original English Sentence': [convert_idx_to_sent(seq, english_tokenizer) for seq in X_test_pad],\n",
        "    'Original French Sentence': orig_fra_text,\n",
        "    'Predicted French Sentence': pred_fra_text\n",
        "})\n",
        "\n",
        "# Display the first few predictions\n",
        "print(predictions.head())\n"
      ],
      "metadata": {
        "colab": {
          "base_uri": "https://localhost:8080/"
        },
        "id": "obDqvgbe_Pmc",
        "outputId": "e18c2025-e8b3-4861-fd12-fbfa4f9d39a2"
      },
      "execution_count": null,
      "outputs": [
        {
          "output_type": "stream",
          "name": "stdout",
          "text": [
            "\u001b[1m63/63\u001b[0m \u001b[32m━━━━━━━━━━━━━━━━━━━━\u001b[0m\u001b[37m\u001b[0m \u001b[1m1s\u001b[0m 12ms/step\n",
            "                           Original English Sentence  \\\n",
            "0                       he is eager to become famous   \n",
            "1                              that's very dishonest   \n",
            "2  tom was able to do what the rest of us weren't...   \n",
            "3            everybody took a attitude toward aliens   \n",
            "4                              my father is a doctor   \n",
            "\n",
            "                            Original French Sentence  \\\n",
            "0                                    il est avide de   \n",
            "1                              c'est très malhonnête   \n",
            "2  tom fut capable de faire ce que nous autres ét...   \n",
            "3     tout le monde a adopté une attitude envers les   \n",
            "4                                       mon père est   \n",
            "\n",
            "                      Predicted French Sentence  \n",
            "0                                  je a un à la  \n",
            "1                                    je un très  \n",
            "2        je a un de ne la que je ne pas à faire  \n",
            "3  je vous monde a été une voiture de la maison  \n",
            "4                             je chien est très  \n"
          ]
        }
      ]
    }
  ],
  "metadata": {
    "colab": {
      "machine_shape": "hm",
      "provenance": []
    },
    "kernelspec": {
      "display_name": "Python 3",
      "name": "python3"
    },
    "language_info": {
      "name": "python"
    }
  },
  "nbformat": 4,
  "nbformat_minor": 0
}